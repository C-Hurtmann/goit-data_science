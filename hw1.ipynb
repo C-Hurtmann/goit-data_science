{
  "nbformat": 4,
  "nbformat_minor": 0,
  "metadata": {
    "colab": {
      "provenance": []
    },
    "kernelspec": {
      "name": "python3",
      "display_name": "Python 3"
    },
    "language_info": {
      "name": "python"
    }
  },
  "cells": [
    {
      "cell_type": "markdown",
      "source": [
        "## 1. Створіть одновимірний масив (вектор) з першими 10-ма натуральними числами та виведіть його значення.\n",
        "\n"
      ],
      "metadata": {
        "id": "Y8004_F_L04R"
      }
    },
    {
      "cell_type": "code",
      "source": [
        "import numpy as np"
      ],
      "metadata": {
        "id": "7KS0ugZjL7x5"
      },
      "execution_count": 36,
      "outputs": []
    },
    {
      "cell_type": "code",
      "source": [
        "v = np.linspace(1, 10, num=10, dtype=int)\n",
        "print(v)"
      ],
      "metadata": {
        "colab": {
          "base_uri": "https://localhost:8080/"
        },
        "id": "4E8qXceZMScZ",
        "outputId": "7d25b11c-488b-4d1b-b12e-91dce9706377"
      },
      "execution_count": 37,
      "outputs": [
        {
          "output_type": "stream",
          "name": "stdout",
          "text": [
            "[ 1  2  3  4  5  6  7  8  9 10]\n"
          ]
        }
      ]
    },
    {
      "cell_type": "markdown",
      "source": [
        "##2. Створіть двовимірний масив (матрицю) розміром 3x3, заповніть його нулями та виведіть його значення.\n",
        "\n"
      ],
      "metadata": {
        "id": "dorS003wNrIH"
      }
    },
    {
      "cell_type": "code",
      "source": [
        "m = np.zeros((3, 3), dtype=int)\n",
        "print(m)"
      ],
      "metadata": {
        "colab": {
          "base_uri": "https://localhost:8080/"
        },
        "id": "24xzFaq6NzLr",
        "outputId": "a795eb1d-6abb-4495-e41c-05c0df0d9be2"
      },
      "execution_count": 38,
      "outputs": [
        {
          "output_type": "stream",
          "name": "stdout",
          "text": [
            "[[0 0 0]\n",
            " [0 0 0]\n",
            " [0 0 0]]\n"
          ]
        }
      ]
    },
    {
      "cell_type": "markdown",
      "source": [
        "##3. Створіть масив розміром 5x5, заповніть його випадковими цілими числами в діапазоні від 1 до 10 та виведіть його значення."
      ],
      "metadata": {
        "id": "nxmKM7NeOy1f"
      }
    },
    {
      "cell_type": "code",
      "source": [
        "m = np.random.randint(1, 10, (5, 5))\n",
        "print(m)"
      ],
      "metadata": {
        "colab": {
          "base_uri": "https://localhost:8080/"
        },
        "id": "mUdDYu0RO_Kb",
        "outputId": "b5a5d168-f89d-43be-9833-227ae3c0299e"
      },
      "execution_count": 39,
      "outputs": [
        {
          "output_type": "stream",
          "name": "stdout",
          "text": [
            "[[7 4 9 7 7]\n",
            " [5 7 5 6 4]\n",
            " [5 8 8 6 1]\n",
            " [1 5 6 9 6]\n",
            " [3 8 1 9 7]]\n"
          ]
        }
      ]
    },
    {
      "cell_type": "markdown",
      "source": [
        "##4. Створіть масив розміром 4x4, заповніть його випадковими дійсними числами в діапазоні від 0 до 1 та виведіть його значення."
      ],
      "metadata": {
        "id": "Tx_qAzbWQGil"
      }
    },
    {
      "cell_type": "code",
      "source": [
        "m = np.random.random((4, 4))\n",
        "print(m)"
      ],
      "metadata": {
        "colab": {
          "base_uri": "https://localhost:8080/"
        },
        "id": "6R3vZvZgQMmB",
        "outputId": "769be8c7-b38a-4340-d1b8-a8483cc269a9"
      },
      "execution_count": 40,
      "outputs": [
        {
          "output_type": "stream",
          "name": "stdout",
          "text": [
            "[[0.46202636 0.31890742 0.4903039  0.09540581]\n",
            " [0.80802542 0.03709019 0.428959   0.59806266]\n",
            " [0.63889661 0.66129113 0.21363254 0.28054233]\n",
            " [0.00395866 0.92187848 0.91637006 0.18343758]]\n"
          ]
        }
      ]
    },
    {
      "cell_type": "markdown",
      "source": [
        "##5. Створіть два одновимірних масиви розміром 5, заповніть їх випадковими цілими числами в діапазоні від 1 до 10 та виконайте на них поелементні операції додавання, віднімання та множення."
      ],
      "metadata": {
        "id": "8a3LUxGkRVcT"
      }
    },
    {
      "cell_type": "code",
      "source": [
        "m1 = np.random.randint(1, 10, (5,))\n",
        "m2 = np.random.randint(1, 10, (5,))\n",
        "print(m1, m2)"
      ],
      "metadata": {
        "colab": {
          "base_uri": "https://localhost:8080/"
        },
        "id": "hQJKBRQ6Ra_H",
        "outputId": "2c837da3-f549-437b-ecdd-fc28bcea0485"
      },
      "execution_count": 41,
      "outputs": [
        {
          "output_type": "stream",
          "name": "stdout",
          "text": [
            "[5 2 1 1 7] [2 8 1 5 5]\n"
          ]
        }
      ]
    },
    {
      "cell_type": "code",
      "source": [
        "m_sum = m1 + m2\n",
        "m_sub = m1 - m2\n",
        "m_mult = m1 * m2\n",
        "print(m_sum)\n",
        "print(m_sub)\n",
        "print(m_mult)\n"
      ],
      "metadata": {
        "colab": {
          "base_uri": "https://localhost:8080/"
        },
        "id": "YMsRVcN1SJds",
        "outputId": "4dcb5a07-a696-45ea-82ab-2d8199da896e"
      },
      "execution_count": 42,
      "outputs": [
        {
          "output_type": "stream",
          "name": "stdout",
          "text": [
            "[ 7 10  2  6 12]\n",
            "[ 3 -6  0 -4  2]\n",
            "[10 16  1  5 35]\n"
          ]
        }
      ]
    },
    {
      "cell_type": "markdown",
      "source": [
        "##6. Створіть два вектори розміром 7, заповніть довільними числами та знайдіть їх скалярний добуток."
      ],
      "metadata": {
        "id": "N2MSt41BSzWv"
      }
    },
    {
      "cell_type": "code",
      "source": [
        "v1 = np.random.randint(1, 10, (7,))\n",
        "v2 = np.random.randint(1, 10, (7,))\n",
        "print(v1, v2)"
      ],
      "metadata": {
        "colab": {
          "base_uri": "https://localhost:8080/"
        },
        "id": "UygszBR_S4hO",
        "outputId": "a62c1a13-e9ae-482c-bc6f-6fc8173ce563"
      },
      "execution_count": 43,
      "outputs": [
        {
          "output_type": "stream",
          "name": "stdout",
          "text": [
            "[2 2 7 5 6 8 9] [8 7 6 9 7 7 3]\n"
          ]
        }
      ]
    },
    {
      "cell_type": "code",
      "source": [
        "scalar_mult = np.dot(v1, v2)\n",
        "print(scalar_mult)"
      ],
      "metadata": {
        "colab": {
          "base_uri": "https://localhost:8080/"
        },
        "id": "ci6MSX0yT3rK",
        "outputId": "81145d9b-3bf6-44ea-f18a-4ed45bb4bfc4"
      },
      "execution_count": 44,
      "outputs": [
        {
          "output_type": "stream",
          "name": "stdout",
          "text": [
            "242\n"
          ]
        }
      ]
    },
    {
      "cell_type": "markdown",
      "source": [
        "##7. Створіть дві матриці розміром 2x2 та 2x3, заповніть їх випадковими цілими числами в діапазоні від 1 до 10 та перемножте їх між собою."
      ],
      "metadata": {
        "id": "r63xVn2yUTJb"
      }
    },
    {
      "cell_type": "code",
      "source": [
        "m1 = np.random.randint(1, 10, (2, 2))\n",
        "m2 = np.random.randint(1, 10, (2, 3))\n",
        "\n",
        "print(m1, m2, sep='\\n\\n')"
      ],
      "metadata": {
        "colab": {
          "base_uri": "https://localhost:8080/"
        },
        "id": "GiODey2eUZGi",
        "outputId": "29fe6520-9514-4b66-a651-45de9a4d9d64"
      },
      "execution_count": 45,
      "outputs": [
        {
          "output_type": "stream",
          "name": "stdout",
          "text": [
            "[[8 1]\n",
            " [8 5]]\n",
            "\n",
            "[[7 6 3]\n",
            " [8 1 7]]\n"
          ]
        }
      ]
    },
    {
      "cell_type": "code",
      "source": [
        "mult_m = np.dot(m1, m2)\n",
        "print(mult_m)"
      ],
      "metadata": {
        "colab": {
          "base_uri": "https://localhost:8080/"
        },
        "id": "3V5LW8TzVIFy",
        "outputId": "544c6965-4d33-451d-b5d6-6c6990124c2a"
      },
      "execution_count": 46,
      "outputs": [
        {
          "output_type": "stream",
          "name": "stdout",
          "text": [
            "[[64 49 31]\n",
            " [96 53 59]]\n"
          ]
        }
      ]
    },
    {
      "cell_type": "markdown",
      "source": [
        "##8. Створіть матрицю розміром 3x3, заповніть її випадковими цілими числами в діапазоні від 1 до 10 та знайдіть її обернену матрицю."
      ],
      "metadata": {
        "id": "a5NuoiuvVoyh"
      }
    },
    {
      "cell_type": "code",
      "source": [
        "m = np.random.randint(1, 10, (3, 3))\n",
        "print(m)"
      ],
      "metadata": {
        "colab": {
          "base_uri": "https://localhost:8080/"
        },
        "id": "ncXanREmV8oG",
        "outputId": "ad73a138-da67-457b-ef4e-edb53d4f0774"
      },
      "execution_count": 47,
      "outputs": [
        {
          "output_type": "stream",
          "name": "stdout",
          "text": [
            "[[7 9 6]\n",
            " [4 8 6]\n",
            " [7 2 7]]\n"
          ]
        }
      ]
    },
    {
      "cell_type": "code",
      "source": [
        "m_transp = np.transpose(m)\n",
        "print(m_transp)"
      ],
      "metadata": {
        "colab": {
          "base_uri": "https://localhost:8080/"
        },
        "id": "CkwcFiz1WtTp",
        "outputId": "a6cb02de-d927-493b-dc0a-fe1b9ae0812a"
      },
      "execution_count": 48,
      "outputs": [
        {
          "output_type": "stream",
          "name": "stdout",
          "text": [
            "[[7 4 7]\n",
            " [9 8 2]\n",
            " [6 6 7]]\n"
          ]
        }
      ]
    },
    {
      "cell_type": "markdown",
      "source": [
        "##9. Створіть матрицю розміром 4x4, заповніть її випадковими дійсними числами в діапазоні від 0 до 1 та транспонуйте її.\n",
        "\n"
      ],
      "metadata": {
        "id": "MzcZQdNdXEk-"
      }
    },
    {
      "cell_type": "code",
      "source": [
        "m = np.random.random((4, 4))\n",
        "print(m)"
      ],
      "metadata": {
        "colab": {
          "base_uri": "https://localhost:8080/"
        },
        "id": "r6DjTQbQXNcC",
        "outputId": "eb286171-8dfe-4d88-ace1-1f4ac0eb7516"
      },
      "execution_count": 49,
      "outputs": [
        {
          "output_type": "stream",
          "name": "stdout",
          "text": [
            "[[0.42588567 0.5859333  0.65648134 0.3286707 ]\n",
            " [0.40740802 0.18172575 0.97179904 0.03446314]\n",
            " [0.19867705 0.03419831 0.21248347 0.0269445 ]\n",
            " [0.38873278 0.41304896 0.74592211 0.07537606]]\n"
          ]
        }
      ]
    },
    {
      "cell_type": "code",
      "source": [
        "m_transp = np.transpose(m)\n",
        "print(m_transp)"
      ],
      "metadata": {
        "colab": {
          "base_uri": "https://localhost:8080/"
        },
        "id": "ta7GZMNcXuRE",
        "outputId": "39aa6156-8fc5-42ae-e334-49147ddc8440"
      },
      "execution_count": 50,
      "outputs": [
        {
          "output_type": "stream",
          "name": "stdout",
          "text": [
            "[[0.42588567 0.40740802 0.19867705 0.38873278]\n",
            " [0.5859333  0.18172575 0.03419831 0.41304896]\n",
            " [0.65648134 0.97179904 0.21248347 0.74592211]\n",
            " [0.3286707  0.03446314 0.0269445  0.07537606]]\n"
          ]
        }
      ]
    },
    {
      "cell_type": "markdown",
      "source": [
        "##10. Створіть матрицю розміром 3x4 та вектор розміром 4, заповніть їх випадковими цілими числами в діапазоні від 1 до 10 та перемножте матрицю на вектор."
      ],
      "metadata": {
        "id": "5gsGLTXkX84w"
      }
    },
    {
      "cell_type": "code",
      "source": [
        "m = np.random.randint(1, 10, (3, 4))\n",
        "v = np.random.randint(1, 10, (4,))\n",
        "\n",
        "print(m, v, sep='\\n\\n')"
      ],
      "metadata": {
        "colab": {
          "base_uri": "https://localhost:8080/"
        },
        "id": "qQnqElyTYDoP",
        "outputId": "caecdcb4-a76d-4b05-d090-58adbb23ad63"
      },
      "execution_count": 51,
      "outputs": [
        {
          "output_type": "stream",
          "name": "stdout",
          "text": [
            "[[4 5 8 1]\n",
            " [8 5 9 5]\n",
            " [8 9 2 8]]\n",
            "\n",
            "[1 7 1 7]\n"
          ]
        }
      ]
    },
    {
      "cell_type": "markdown",
      "source": [
        "##11. Створіть матрицю розміром 2x3 та вектор розміром 3, заповніть їх випадковими дійсними числами в діапазоні від 0 до 1 та перемножте матрицю на вектор."
      ],
      "metadata": {
        "id": "uqqRC25hYwS9"
      }
    },
    {
      "cell_type": "code",
      "source": [
        "m = np.random.random((2, 3))\n",
        "v = np.random.random((3,))\n",
        "\n",
        "print(m, v, sep='\\n\\n')"
      ],
      "metadata": {
        "colab": {
          "base_uri": "https://localhost:8080/"
        },
        "id": "8p5NrWwVY1NM",
        "outputId": "466c1e50-73de-4657-a8e1-cc542f225439"
      },
      "execution_count": 52,
      "outputs": [
        {
          "output_type": "stream",
          "name": "stdout",
          "text": [
            "[[0.00281742 0.64489804 0.99853025]\n",
            " [0.71282154 0.75365702 0.03949225]]\n",
            "\n",
            "[0.59107492 0.0685689  0.19880445]\n"
          ]
        }
      ]
    },
    {
      "cell_type": "code",
      "source": [
        "mult_m = np.dot(m, v)\n",
        "\n",
        "print(mult_m)"
      ],
      "metadata": {
        "colab": {
          "base_uri": "https://localhost:8080/"
        },
        "id": "FJWT4WDlZVy9",
        "outputId": "b93e5eb5-0237-4ec4-da5e-86452119d493"
      },
      "execution_count": 53,
      "outputs": [
        {
          "output_type": "stream",
          "name": "stdout",
          "text": [
            "[0.24439752 0.4808596 ]\n"
          ]
        }
      ]
    },
    {
      "cell_type": "markdown",
      "source": [
        "##12. Створіть дві матриці розміром 2x2, заповніть їх випадковими цілими числами в діапазоні від 1 до 10 та виконайте їхнє поелементне множення."
      ],
      "metadata": {
        "id": "1AgCSugOZm-j"
      }
    },
    {
      "cell_type": "code",
      "source": [
        "m1 = np.random.randint(1, 10, (2, 2))\n",
        "m2 = np.random.randint(1, 10, (2, 2))\n",
        "\n",
        "print(m1, m2, sep='\\n\\n')"
      ],
      "metadata": {
        "colab": {
          "base_uri": "https://localhost:8080/"
        },
        "id": "v2acNjnmZsOP",
        "outputId": "b2e46a74-0a84-44aa-a704-1b8f16c21d57"
      },
      "execution_count": 54,
      "outputs": [
        {
          "output_type": "stream",
          "name": "stdout",
          "text": [
            "[[9 8]\n",
            " [4 6]]\n",
            "\n",
            "[[9 9]\n",
            " [8 7]]\n"
          ]
        }
      ]
    },
    {
      "cell_type": "code",
      "source": [
        "mult_m = m1 * m2\n",
        "\n",
        "print(mult_m)"
      ],
      "metadata": {
        "colab": {
          "base_uri": "https://localhost:8080/"
        },
        "id": "1B0cFIXWaQc8",
        "outputId": "9fc70c17-3d48-4503-c99a-61cbf6a98110"
      },
      "execution_count": 55,
      "outputs": [
        {
          "output_type": "stream",
          "name": "stdout",
          "text": [
            "[[81 72]\n",
            " [32 42]]\n"
          ]
        }
      ]
    },
    {
      "cell_type": "markdown",
      "source": [
        "##13. Створіть дві матриці розміром 2x2, заповніть їх випадковими цілими числами в діапазоні від 1 до 10 та знайдіть їх добуток."
      ],
      "metadata": {
        "id": "zdRU9DX4aZDs"
      }
    },
    {
      "cell_type": "code",
      "source": [
        "m1 = np.random.randint(1, 10, (2, 2))\n",
        "m2 = np.random.randint(1, 10, (2, 2))\n",
        "\n",
        "print(m1, m2, sep='\\n\\n')"
      ],
      "metadata": {
        "colab": {
          "base_uri": "https://localhost:8080/"
        },
        "id": "jUryTOynad8D",
        "outputId": "459f1051-0149-4533-8363-478d0b84049a"
      },
      "execution_count": 56,
      "outputs": [
        {
          "output_type": "stream",
          "name": "stdout",
          "text": [
            "[[2 7]\n",
            " [2 6]]\n",
            "\n",
            "[[2 6]\n",
            " [5 4]]\n"
          ]
        }
      ]
    },
    {
      "cell_type": "code",
      "source": [
        "mult_m = np.dot(m1, m2)\n",
        "\n",
        "print(mult_m)"
      ],
      "metadata": {
        "colab": {
          "base_uri": "https://localhost:8080/"
        },
        "id": "zH3lHW0IbChc",
        "outputId": "94436bad-2fe5-4ecc-8b50-16e115af9f6a"
      },
      "execution_count": 57,
      "outputs": [
        {
          "output_type": "stream",
          "name": "stdout",
          "text": [
            "[[39 40]\n",
            " [34 36]]\n"
          ]
        }
      ]
    },
    {
      "cell_type": "markdown",
      "source": [
        "##14. Створіть матрицю розміром 5x5, заповніть її випадковими цілими числами в діапазоні від 1 до 100 та знайдіть суму елементів матриці."
      ],
      "metadata": {
        "id": "23w7TXBKcEKt"
      }
    },
    {
      "cell_type": "code",
      "source": [
        "m = np.random.randint(1, 100, (5, 5))\n",
        "\n",
        "print(m)"
      ],
      "metadata": {
        "colab": {
          "base_uri": "https://localhost:8080/"
        },
        "id": "OYqgSvEUcJfK",
        "outputId": "2616308d-ae6c-49fa-e1b2-dfc43e33ef92"
      },
      "execution_count": 58,
      "outputs": [
        {
          "output_type": "stream",
          "name": "stdout",
          "text": [
            "[[53 16 41 61 48]\n",
            " [36 35 95 78 13]\n",
            " [ 7  4 87 11 67]\n",
            " [98 39 96 87 49]\n",
            " [56 58 73 94 35]]\n"
          ]
        }
      ]
    },
    {
      "cell_type": "code",
      "source": [
        "sum = np.sum(m)\n",
        "\n",
        "print(sum)"
      ],
      "metadata": {
        "colab": {
          "base_uri": "https://localhost:8080/"
        },
        "id": "NGuJjRopcXqN",
        "outputId": "aefe2789-28c5-4994-b318-fd8208ed3c93"
      },
      "execution_count": 59,
      "outputs": [
        {
          "output_type": "stream",
          "name": "stdout",
          "text": [
            "1337\n"
          ]
        }
      ]
    },
    {
      "cell_type": "markdown",
      "source": [
        "##15. Створіть дві матриці розміром 4x4, заповніть їх випадковими цілими числами в діапазоні від 1 до 10 та знайдіть їхню різницю."
      ],
      "metadata": {
        "id": "NU3QPgNfcrQG"
      }
    },
    {
      "cell_type": "code",
      "source": [
        "m1 = np.random.randint(1, 10, (4, 4))\n",
        "m2 = np.random.randint(1, 10, (4, 4))\n",
        "\n",
        "print(m1, m2, sep='\\n\\n')"
      ],
      "metadata": {
        "colab": {
          "base_uri": "https://localhost:8080/"
        },
        "id": "XpU6rJPOcxUz",
        "outputId": "5adef7b6-a65c-4f95-b3d1-705b38cfb506"
      },
      "execution_count": 60,
      "outputs": [
        {
          "output_type": "stream",
          "name": "stdout",
          "text": [
            "[[9 2 2 7]\n",
            " [5 6 7 5]\n",
            " [6 7 2 6]\n",
            " [7 7 2 9]]\n",
            "\n",
            "[[4 7 7 4]\n",
            " [4 9 4 8]\n",
            " [1 4 9 7]\n",
            " [6 8 4 5]]\n"
          ]
        }
      ]
    },
    {
      "cell_type": "code",
      "source": [
        "sub = np.subtract(m1, m2)\n",
        "\n",
        "print(sub)"
      ],
      "metadata": {
        "colab": {
          "base_uri": "https://localhost:8080/"
        },
        "id": "lwEMc2zBdC59",
        "outputId": "6fdd2a98-3bff-44fa-b394-72ecc1360d4b"
      },
      "execution_count": 61,
      "outputs": [
        {
          "output_type": "stream",
          "name": "stdout",
          "text": [
            "[[ 5 -5 -5  3]\n",
            " [ 1 -3  3 -3]\n",
            " [ 5  3 -7 -1]\n",
            " [ 1 -1 -2  4]]\n"
          ]
        }
      ]
    },
    {
      "cell_type": "markdown",
      "source": [
        "##16. Створіть матрицю розміром 3x3, заповніть її випадковими дійсними числами в діапазоні від 0 до 1 та знайдіть вектор-стовпчик, що містить суму елементів кожного рядка матриці."
      ],
      "metadata": {
        "id": "c3__XCVxdOSF"
      }
    },
    {
      "cell_type": "code",
      "source": [
        "m = np.random.random((3, 3))\n",
        "\n",
        "print(m)"
      ],
      "metadata": {
        "colab": {
          "base_uri": "https://localhost:8080/"
        },
        "id": "U8y9RXTTdSoU",
        "outputId": "b05151f4-bd4a-4b69-d6e3-a18391d5782f"
      },
      "execution_count": 62,
      "outputs": [
        {
          "output_type": "stream",
          "name": "stdout",
          "text": [
            "[[0.80242524 0.39890257 0.01546266]\n",
            " [0.80014947 0.39855539 0.71483706]\n",
            " [0.15346301 0.07935538 0.58144723]]\n"
          ]
        }
      ]
    },
    {
      "cell_type": "code",
      "source": [
        "sum_row = np.sum(m, axis=1)\n",
        "vertical_v = sum_row.reshape(-1, 1)\n",
        "\n",
        "print(sum_row, vertical_v, sep='\\n\\n')"
      ],
      "metadata": {
        "colab": {
          "base_uri": "https://localhost:8080/"
        },
        "id": "Nl0pWjNEdltq",
        "outputId": "ecdd2d84-fd17-455a-8b04-0ae058139874"
      },
      "execution_count": 63,
      "outputs": [
        {
          "output_type": "stream",
          "name": "stdout",
          "text": [
            "[1.21679047 1.91354192 0.81426562]\n",
            "\n",
            "[[1.21679047]\n",
            " [1.91354192]\n",
            " [0.81426562]]\n"
          ]
        }
      ]
    },
    {
      "cell_type": "markdown",
      "source": [
        "##17. Створіть матрицю розміром 3x4 з довільними цілими числами і створінь матрицю з квадратами цих чисел."
      ],
      "metadata": {
        "id": "u24bol8rfhF-"
      }
    },
    {
      "cell_type": "code",
      "source": [
        "m = np.random.randint(1, 10, (3, 4))\n",
        "\n",
        "print(m)"
      ],
      "metadata": {
        "colab": {
          "base_uri": "https://localhost:8080/"
        },
        "id": "v5amNhiSflXS",
        "outputId": "d3df75ed-1f9d-4640-8bc0-9fe002e3d291"
      },
      "execution_count": 64,
      "outputs": [
        {
          "output_type": "stream",
          "name": "stdout",
          "text": [
            "[[5 3 1 7]\n",
            " [4 1 1 3]\n",
            " [9 1 3 7]]\n"
          ]
        }
      ]
    },
    {
      "cell_type": "code",
      "source": [
        "square_m = np.square(m)\n",
        "\n",
        "print(square_m)"
      ],
      "metadata": {
        "colab": {
          "base_uri": "https://localhost:8080/"
        },
        "id": "fM7UwSIofz-I",
        "outputId": "9d0e956b-836e-44e0-ab29-a66f5199a423"
      },
      "execution_count": 65,
      "outputs": [
        {
          "output_type": "stream",
          "name": "stdout",
          "text": [
            "[[25  9  1 49]\n",
            " [16  1  1  9]\n",
            " [81  1  9 49]]\n"
          ]
        }
      ]
    },
    {
      "cell_type": "markdown",
      "source": [
        "##18. Створіть вектор розміром 4, заповніть його випадковими цілими числами в діапазоні від 1 до 50 та знайдіть вектор з квадратними коренями цих чисел."
      ],
      "metadata": {
        "id": "HIjpaj1HgDzb"
      }
    },
    {
      "cell_type": "code",
      "source": [
        "v = np.random.randint(1, 50, (4,))\n",
        "\n",
        "print(v)"
      ],
      "metadata": {
        "colab": {
          "base_uri": "https://localhost:8080/"
        },
        "id": "1pWeKU50gIUD",
        "outputId": "8f8e2b7e-d0d0-4952-c279-72301fe54a82"
      },
      "execution_count": 66,
      "outputs": [
        {
          "output_type": "stream",
          "name": "stdout",
          "text": [
            "[27 42 44 11]\n"
          ]
        }
      ]
    },
    {
      "cell_type": "code",
      "source": [
        "square_root_v = np.sqrt(v)\n",
        "\n",
        "print(square_root_v)"
      ],
      "metadata": {
        "colab": {
          "base_uri": "https://localhost:8080/"
        },
        "id": "oOLgZv_jgVJe",
        "outputId": "2373cec0-08fc-46ef-84c0-9092fc28685a"
      },
      "execution_count": 67,
      "outputs": [
        {
          "output_type": "stream",
          "name": "stdout",
          "text": [
            "[5.19615242 6.4807407  6.63324958 3.31662479]\n"
          ]
        }
      ]
    }
  ]
}