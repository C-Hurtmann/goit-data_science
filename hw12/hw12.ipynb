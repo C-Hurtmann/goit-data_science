{
  "nbformat": 4,
  "nbformat_minor": 0,
  "metadata": {
    "colab": {
      "provenance": []
    },
    "kernelspec": {
      "name": "python3",
      "display_name": "Python 3"
    },
    "language_info": {
      "name": "python"
    }
  },
  "cells": [
    {
      "cell_type": "code",
      "execution_count": 5,
      "metadata": {
        "id": "gOLIuuiDI831"
      },
      "outputs": [],
      "source": [
        "text = \"The Orbiter Discovery, OV-103, is considered eligible for listing in the National Register of Historic Places (NRHP) in the context of the U.S. Space Shuttle Program (1969-2011) under Criterion A in the areas of Space Exploration and Transportation and under Criterion C in the area of Engineering. Because it has achieved significance within the past fifty years, Criteria Consideration G applies. Under Criterion A, Discovery is significant as the oldest of the three extant orbiter vehicles constructed for the Space Shuttle Program (SSP), the longest running American space program to date; she was the third of five orbiters built by NASA. Unlike the Mercury, Gemini, and Apollo programs, the SSP’s emphasis was on cost effectiveness and reusability, and eventually the construction of a space station. Including her maiden voyage (launched August 30, 1984), Discovery flew to space thirty-nine times, more than any of the other four orbiters; she was also the first orbiter to fly twenty missions. She had the honor of being chosen as the Return to Flight vehicle after both the Challenger and Columbia accidents. Discovery was the first shuttle to fly with the redesigned SRBs, a result of the Challenger accident, and the first shuttle to fly with the Phase II and Block I SSME. Discovery also carried the Hubble Space Telescope to orbit and performed two of the five servicing missions to the observatory. She flew the first and last dedicated Department of Defense (DoD) missions, as well as the first unclassified defense-related mission. In addition, Discovery was vital to the construction of the International Space Station (ISS); she flew thirteen of the thirty-seven total missions flown to the station by a U.S. Space Shuttle. She was the first orbiter to dock to the ISS, and the first to perform an exchange of a resident crew. Under Criterion C, Discovery is significant as a feat of engineering. According to Wayne Hale, a flight director from Johnson Space Center, the Space Shuttle orbiter represents a “huge technological leap from expendable rockets and capsules to a reusable, winged, hypersonic, cargo-carrying spacecraft.” Although her base structure followed a conventional aircraft design, she used advanced materials that both minimized her weight for cargo-carrying purposes and featured low thermal expansion ratios, which provided a stable base for her Thermal Protection System (TPS) materials. The Space Shuttle orbiter also featured the first reusable TPS; all previous spaceflight vehicles had a single-use, ablative heat shield. Other notable engineering achievements of the orbiter included the first reusable orbital propulsion system, and the first two-fault-tolerant Integrated Avionics System. As Hale stated, the Space Shuttle remains “the largest, fastest, winged hypersonic aircraft in history,” having regularly flown at twenty-five times the speed of sound.\""
      ]
    },
    {
      "cell_type": "code",
      "source": [
        "import spacy\n",
        "\n",
        "import nltk\n",
        "from nltk.corpus import stopwords\n",
        "from nltk.tokenize import word_tokenize, sent_tokenize\n",
        "\n",
        "nlp = spacy.load('en_core_web_sm')\n",
        "nltk.download('punkt')\n",
        "nltk.download('stopwords')"
      ],
      "metadata": {
        "colab": {
          "base_uri": "https://localhost:8080/"
        },
        "id": "6r0cozlMJ327",
        "outputId": "cdc1b10d-130c-46fc-913e-8c17052935ce"
      },
      "execution_count": 12,
      "outputs": [
        {
          "output_type": "stream",
          "name": "stderr",
          "text": [
            "[nltk_data] Downloading package punkt to /root/nltk_data...\n",
            "[nltk_data]   Package punkt is already up-to-date!\n",
            "[nltk_data] Downloading package stopwords to /root/nltk_data...\n",
            "[nltk_data]   Unzipping corpora/stopwords.zip.\n"
          ]
        },
        {
          "output_type": "execute_result",
          "data": {
            "text/plain": [
              "True"
            ]
          },
          "metadata": {},
          "execution_count": 12
        }
      ]
    },
    {
      "cell_type": "code",
      "source": [
        "doc = nlp(text)\n",
        "tokens_nltk = [token.text for token in doc]"
      ],
      "metadata": {
        "id": "2qyXC0u4KOFD"
      },
      "execution_count": 7,
      "outputs": []
    },
    {
      "cell_type": "code",
      "source": [
        "tokens = word_tokenize(text)\n",
        "sentences = sent_tokenize(text)\n",
        "stop_words = set(stopwords.words('english'))"
      ],
      "metadata": {
        "id": "Rt2j2XjyLsiw"
      },
      "execution_count": 13,
      "outputs": []
    },
    {
      "cell_type": "code",
      "source": [
        "from string import punctuation\n",
        "\n",
        "punpunctuation = punctuation + '\\n'"
      ],
      "metadata": {
        "id": "X8haf3KrNWEN"
      },
      "execution_count": 14,
      "outputs": []
    },
    {
      "cell_type": "code",
      "source": [
        "word_frequencies = {}\n",
        "for word in doc:\n",
        "    if word.text.lower() not in stop_words and word.text.lower() not in punctuation:\n",
        "        if word.text not in word_frequencies:\n",
        "            word_frequencies[word.text] = 1\n",
        "        else:\n",
        "            word_frequencies[word.text] += 1\n"
      ],
      "metadata": {
        "id": "lB7cZG-DOZ7_"
      },
      "execution_count": 15,
      "outputs": []
    },
    {
      "cell_type": "code",
      "source": [
        "word_frequencies_nltk = {}\n",
        "for word in tokens_nltk:\n",
        "    if word.lower() not in stop_words and word.lower() not in punctuation:\n",
        "        if word not in word_frequencies_nltk:\n",
        "            word_frequencies_nltk[word] = 1\n",
        "        else:\n",
        "            word_frequencies_nltk[word] += 1"
      ],
      "metadata": {
        "id": "mQVy0aFjOfA5"
      },
      "execution_count": 16,
      "outputs": []
    },
    {
      "cell_type": "code",
      "source": [
        "sentence_scores_nltk = {}\n",
        "for sentence in sentences:\n",
        "    for word in word_tokenize(sentence):\n",
        "        if word.lower() in word_frequencies_nltk:\n",
        "            if sentence not in sentence_scores_nltk:\n",
        "                sentence_scores_nltk[sentence] = word_frequencies_nltk[word.lower()]\n",
        "            else:\n",
        "                sentence_scores_nltk[sentence] += word_frequencies_nltk[word.lower()]"
      ],
      "metadata": {
        "id": "wI2gfrdOOidm"
      },
      "execution_count": 17,
      "outputs": []
    },
    {
      "cell_type": "code",
      "source": [
        "from heapq import nlargest\n",
        "\n",
        "select_length = int(len(sentences) * 0.3)\n",
        "summary_nltk = nlargest(select_length, sentence_scores_nltk, key=sentence_scores_nltk.get)\n",
        "for sentence in summary_nltk:\n",
        "    print(sentence)"
      ],
      "metadata": {
        "colab": {
          "base_uri": "https://localhost:8080/"
        },
        "id": "goxi5b2MOmp2",
        "outputId": "90b1d0e1-7ac2-4404-9bbe-338b0c64ff65"
      },
      "execution_count": 19,
      "outputs": [
        {
          "output_type": "stream",
          "name": "stdout",
          "text": [
            "According to Wayne Hale, a flight director from Johnson Space Center, the Space Shuttle orbiter represents a “huge technological leap from expendable rockets and capsules to a reusable, winged, hypersonic, cargo-carrying spacecraft.” Although her base structure followed a conventional aircraft design, she used advanced materials that both minimized her weight for cargo-carrying purposes and featured low thermal expansion ratios, which provided a stable base for her Thermal Protection System (TPS) materials.\n",
            "Including her maiden voyage (launched August 30, 1984), Discovery flew to space thirty-nine times, more than any of the other four orbiters; she was also the first orbiter to fly twenty missions.\n",
            "Other notable engineering achievements of the orbiter included the first reusable orbital propulsion system, and the first two-fault-tolerant Integrated Avionics System.\n",
            "The Space Shuttle orbiter also featured the first reusable TPS; all previous spaceflight vehicles had a single-use, ablative heat shield.\n"
          ]
        }
      ]
    },
    {
      "cell_type": "markdown",
      "source": [
        "#Conclusion"
      ],
      "metadata": {
        "id": "GdzFFvb_PXYA"
      }
    },
    {
      "cell_type": "markdown",
      "source": [
        "The code performs the following steps:\n",
        "\n",
        "\n",
        "1.   Imports Necessary Libraries: It loads required libraries such as spaCy, NLTK, and downloads necessary data for NLTK\n",
        "2.   Defines Input Text: The input text is a description of the \"Orbiter Discovery\" space shuttle\n",
        "3.   Tokenizes Text: It tokenizes the text using both spaCy and NLTK to obtain individual words and sentences\n",
        "4.   Calculates Word Frequencies: The code calculates the frequency of each word in the text and normalizes these frequencies\n",
        "5.   Selects Top 30% of Sentences: The code selects the top 30% of sentences with the highest scores\n",
        "6.   Forms Final Summary: It creates the final summary, which is a string composed of the selected sentences\n",
        "7.   Prints the Summary: The final summary is printed\n",
        "\n",
        "Summary of the Text: The code analyzes and extracts key points from the description of the \"Orbiter Discovery\" space shuttle, including its history, participation in missions, significant technological achievements, and its impact on the construction of the International Space Station (ISS)."
      ],
      "metadata": {
        "id": "HriuRiaOPcUs"
      }
    }
  ]
}