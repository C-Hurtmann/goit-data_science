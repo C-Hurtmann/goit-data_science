{
  "nbformat": 4,
  "nbformat_minor": 0,
  "metadata": {
    "colab": {
      "provenance": [],
      "gpuType": "T4"
    },
    "kernelspec": {
      "name": "python3",
      "display_name": "Python 3"
    },
    "language_info": {
      "name": "python"
    },
    "accelerator": "GPU"
  },
  "cells": [
    {
      "cell_type": "markdown",
      "source": [
        "#Part 1"
      ],
      "metadata": {
        "id": "6Svc5sRqg2Gy"
      }
    },
    {
      "cell_type": "code",
      "execution_count": 5,
      "metadata": {
        "id": "l8ud2jmB7D-j"
      },
      "outputs": [],
      "source": [
        "import numpy as np\n",
        "import tensorflow as tf\n",
        "\n",
        "from tensorflow.keras.datasets import fashion_mnist\n",
        "\n",
        "(train_images, train_labels), (test_images, test_labels) = fashion_mnist.load_data()\n",
        "train_images = np.repeat(train_images[..., np.newaxis], 3, -1)\n",
        "train_images = tf.image.resize(train_images, (32, 32)) / 255.0\n",
        "test_images = np.repeat(test_images[..., np.newaxis], 3, -1)\n",
        "test_images = tf.image.resize(test_images, (32, 32)) / 255.0\n",
        "\n",
        "train_labels = train_labels.astype('int64')\n",
        "test_labels = test_labels.astype('int64')"
      ]
    },
    {
      "cell_type": "code",
      "source": [
        "from tensorflow.keras.applications import VGG16\n",
        "\n",
        "vgg_base = VGG16(weights='imagenet', include_top=False, input_shape=(32, 32, 3))\n",
        "vgg_base.trainable = False"
      ],
      "metadata": {
        "id": "Opzk4bh47aCx"
      },
      "execution_count": 6,
      "outputs": []
    },
    {
      "cell_type": "code",
      "source": [
        "from tensorflow.keras import layers\n",
        "from tensorflow.keras.models import Sequential\n",
        "\n",
        "model = Sequential([\n",
        "    vgg_base,\n",
        "    layers.Flatten(),\n",
        "    layers.Dense(512, activation='relu'),\n",
        "    layers.Dropout(0.5),\n",
        "    layers.Dense(256, activation='relu'),\n",
        "    layers.Dropout(0.5),\n",
        "    layers.Dense(10, activation='softmax')\n",
        "])\n",
        "\n",
        "model.compile(optimizer='adam',\n",
        "              loss='sparse_categorical_crossentropy',\n",
        "              metrics=['accuracy'])"
      ],
      "metadata": {
        "id": "EuRD9u3L7hC4"
      },
      "execution_count": 7,
      "outputs": []
    },
    {
      "cell_type": "code",
      "source": [
        "model.fit(train_images, train_labels, epochs=10, batch_size=64, validation_data=(test_images, test_labels))\n"
      ],
      "metadata": {
        "colab": {
          "base_uri": "https://localhost:8080/"
        },
        "id": "fByArT1o7tun",
        "outputId": "9da84cd7-fb6d-40bd-f799-08e7aa5c5865"
      },
      "execution_count": 8,
      "outputs": [
        {
          "output_type": "stream",
          "name": "stdout",
          "text": [
            "Epoch 1/10\n",
            "938/938 [==============================] - 14s 13ms/step - loss: 0.6655 - accuracy: 0.7626 - val_loss: 0.4429 - val_accuracy: 0.8383\n",
            "Epoch 2/10\n",
            "938/938 [==============================] - 13s 14ms/step - loss: 0.4858 - accuracy: 0.8224 - val_loss: 0.4278 - val_accuracy: 0.8431\n",
            "Epoch 3/10\n",
            "938/938 [==============================] - 12s 13ms/step - loss: 0.4517 - accuracy: 0.8363 - val_loss: 0.4109 - val_accuracy: 0.8485\n",
            "Epoch 4/10\n",
            "938/938 [==============================] - 13s 14ms/step - loss: 0.4318 - accuracy: 0.8421 - val_loss: 0.3999 - val_accuracy: 0.8506\n",
            "Epoch 5/10\n",
            "938/938 [==============================] - 13s 14ms/step - loss: 0.4155 - accuracy: 0.8478 - val_loss: 0.3909 - val_accuracy: 0.8569\n",
            "Epoch 6/10\n",
            "938/938 [==============================] - 13s 14ms/step - loss: 0.4057 - accuracy: 0.8523 - val_loss: 0.3838 - val_accuracy: 0.8614\n",
            "Epoch 7/10\n",
            "938/938 [==============================] - 14s 15ms/step - loss: 0.3962 - accuracy: 0.8565 - val_loss: 0.3769 - val_accuracy: 0.8619\n",
            "Epoch 8/10\n",
            "938/938 [==============================] - 14s 15ms/step - loss: 0.3878 - accuracy: 0.8574 - val_loss: 0.3674 - val_accuracy: 0.8636\n",
            "Epoch 9/10\n",
            "938/938 [==============================] - 13s 14ms/step - loss: 0.3779 - accuracy: 0.8612 - val_loss: 0.3730 - val_accuracy: 0.8620\n",
            "Epoch 10/10\n",
            "938/938 [==============================] - 12s 13ms/step - loss: 0.3772 - accuracy: 0.8617 - val_loss: 0.3651 - val_accuracy: 0.8659\n"
          ]
        },
        {
          "output_type": "execute_result",
          "data": {
            "text/plain": [
              "<keras.src.callbacks.History at 0x7aee567d5f30>"
            ]
          },
          "metadata": {},
          "execution_count": 8
        }
      ]
    },
    {
      "cell_type": "code",
      "source": [
        "model.fit(train_images, train_labels, epochs=5, batch_size=64, validation_data=(test_images, test_labels))"
      ],
      "metadata": {
        "id": "qlak5E7_hd1L",
        "outputId": "1278e4a9-7bfb-4123-cc5f-5f4c98171538",
        "colab": {
          "base_uri": "https://localhost:8080/"
        }
      },
      "execution_count": 9,
      "outputs": [
        {
          "output_type": "stream",
          "name": "stdout",
          "text": [
            "Epoch 1/5\n",
            "938/938 [==============================] - 13s 14ms/step - loss: 0.3656 - accuracy: 0.8648 - val_loss: 0.3721 - val_accuracy: 0.8617\n",
            "Epoch 2/5\n",
            "938/938 [==============================] - 12s 13ms/step - loss: 0.3626 - accuracy: 0.8656 - val_loss: 0.3548 - val_accuracy: 0.8629\n",
            "Epoch 3/5\n",
            "938/938 [==============================] - 13s 14ms/step - loss: 0.3551 - accuracy: 0.8692 - val_loss: 0.3540 - val_accuracy: 0.8682\n",
            "Epoch 4/5\n",
            "938/938 [==============================] - 12s 13ms/step - loss: 0.3523 - accuracy: 0.8711 - val_loss: 0.3485 - val_accuracy: 0.8749\n",
            "Epoch 5/5\n",
            "938/938 [==============================] - 13s 14ms/step - loss: 0.3477 - accuracy: 0.8704 - val_loss: 0.3584 - val_accuracy: 0.8680\n"
          ]
        },
        {
          "output_type": "execute_result",
          "data": {
            "text/plain": [
              "<keras.src.callbacks.History at 0x7aee58bce8f0>"
            ]
          },
          "metadata": {},
          "execution_count": 9
        }
      ]
    },
    {
      "cell_type": "code",
      "source": [
        "test_loss, test_accuracy = model.evaluate(test_images, test_labels)\n",
        "print(f\"Test Loss: {test_loss:.4f}, Test Accuracy: {test_accuracy:.4f}\")"
      ],
      "metadata": {
        "id": "2VT6XAMahusY",
        "outputId": "51b959e6-3479-4d21-f236-a69535ddca96",
        "colab": {
          "base_uri": "https://localhost:8080/"
        }
      },
      "execution_count": 10,
      "outputs": [
        {
          "output_type": "stream",
          "name": "stdout",
          "text": [
            "313/313 [==============================] - 3s 9ms/step - loss: 0.3584 - accuracy: 0.8680\n",
            "Test Loss: 0.3584, Test Accuracy: 0.8680\n"
          ]
        }
      ]
    },
    {
      "cell_type": "markdown",
      "source": [
        "##Conclusion"
      ],
      "metadata": {
        "id": "s89bNYt4iMHZ"
      }
    },
    {
      "cell_type": "markdown",
      "source": [
        "WARNING this model shows extremely degradation of learning speed on CPU. Run only on GPU. Also this model shows worse accuracy than default NN and CNN. But it stateful and as a consequence of this provides more flexibility of learning process"
      ],
      "metadata": {
        "id": "1CgGkcVfiO2d"
      }
    }
  ]
}