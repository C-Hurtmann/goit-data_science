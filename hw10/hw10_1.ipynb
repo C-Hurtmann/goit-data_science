{
  "cells": [
    {
      "cell_type": "code",
      "execution_count": null,
      "metadata": {
        "id": "LpPa2urmMmW2"
      },
      "outputs": [],
      "source": [
        "import tensorflow as tf"
      ]
    },
    {
      "cell_type": "code",
      "execution_count": null,
      "metadata": {
        "id": "pgHJME-4PT_g"
      },
      "outputs": [],
      "source": [
        "from tensorflow.keras.datasets import fashion_mnist\n",
        "from sklearn.model_selection import train_test_split\n",
        "\n",
        "(train_images, train_labels), (test_images, test_labels) = fashion_mnist.load_data()\n",
        "\n",
        "train_images = train_images / 255.0\n",
        "test_images = test_images / 255.0\n",
        "\n",
        "train_images = train_images.reshape(-1, 28, 28, 1)\n",
        "test_images = test_images.reshape(-1, 28, 28, 1)\n",
        "\n",
        "\n",
        "train_images, val_images, train_labels, val_labels = train_test_split(\n",
        "    train_images, train_labels, test_size=0.2, random_state=42\n",
        ")"
      ]
    },
    {
      "cell_type": "code",
      "execution_count": null,
      "metadata": {
        "colab": {
          "base_uri": "https://localhost:8080/",
          "height": 447
        },
        "id": "fQu_kVdyPhKa",
        "outputId": "4d4363ef-5381-41b5-fb33-5dc931db9193"
      },
      "outputs": [
        {
          "data": {
            "text/plain": [
              "<matplotlib.image.AxesImage at 0x7b425585ac80>"
            ]
          },
          "execution_count": 4,
          "metadata": {},
          "output_type": "execute_result"
        },
        {
          "data": {
            "image/png": "[encoded data removed]",
            "text/plain": [
              "<Figure size 640x480 with 1 Axes>"
            ]
          },
          "metadata": {},
          "output_type": "display_data"
        }
      ],
      "source": [
        "import matplotlib.pyplot as plt\n",
        "\n",
        "plt.imshow(train_images[0])"
      ]
    },
    {
      "cell_type": "markdown",
      "metadata": {
        "id": "3DQKqJA8OZtt"
      },
      "source": [
        "#Part 1"
      ]
    },
    {
      "cell_type": "code",
      "execution_count": null,
      "metadata": {
        "id": "dauaHpGAQ0Pp"
      },
      "outputs": [],
      "source": [
        "from tensorflow.keras import layers\n",
        "from tensorflow.keras.models import Sequential\n",
        "\n",
        "\n",
        "model = Sequential([\n",
        "    layers.Conv2D(32, (3, 3), activation='relu', input_shape=(28, 28, 1)),\n",
        "    layers.MaxPooling2D((2, 2)),\n",
        "    layers.Conv2D(64, (3, 3), activation='relu'),\n",
        "    layers.MaxPooling2D((2, 2)),\n",
        "    layers.Flatten(),\n",
        "    layers.Dense(128, activation='relu'),\n",
        "    layers.Dense(10, activation='softmax')\n",
        "])\n",
        "\n",
        "model.compile(optimizer='adam',\n",
        "              loss='sparse_categorical_crossentropy',\n",
        "              metrics=['accuracy'])"
      ]
    },
    {
      "cell_type": "code",
      "execution_count": null,
      "metadata": {
        "colab": {
          "base_uri": "https://localhost:8080/"
        },
        "id": "fzmmyXHPVMU9",
        "outputId": "fb34ee81-fba1-49e9-c3e4-811e8e6c8a0e"
      },
      "outputs": [
        {
          "name": "stdout",
          "output_type": "stream",
          "text": [
            "Epoch 1/10\n",
            "750/750 [==============================] - 66s 85ms/step - loss: 0.5256 - accuracy: 0.8118 - val_loss: 0.3739 - val_accuracy: 0.8622\n",
            "Epoch 2/10\n",
            "750/750 [==============================] - 44s 58ms/step - loss: 0.3425 - accuracy: 0.8769 - val_loss: 0.3221 - val_accuracy: 0.8811\n",
            "Epoch 3/10\n",
            "750/750 [==============================] - 49s 65ms/step - loss: 0.2959 - accuracy: 0.8913 - val_loss: 0.2998 - val_accuracy: 0.8916\n",
            "Epoch 4/10\n",
            "750/750 [==============================] - 44s 59ms/step - loss: 0.2617 - accuracy: 0.9030 - val_loss: 0.2755 - val_accuracy: 0.8963\n",
            "Epoch 5/10\n",
            "750/750 [==============================] - 46s 62ms/step - loss: 0.2369 - accuracy: 0.9136 - val_loss: 0.2628 - val_accuracy: 0.9019\n",
            "Epoch 6/10\n",
            "750/750 [==============================] - 44s 59ms/step - loss: 0.2162 - accuracy: 0.9202 - val_loss: 0.2527 - val_accuracy: 0.9083\n",
            "Epoch 7/10\n",
            "750/750 [==============================] - 44s 59ms/step - loss: 0.1970 - accuracy: 0.9275 - val_loss: 0.2515 - val_accuracy: 0.9073\n",
            "Epoch 8/10\n",
            "750/750 [==============================] - 45s 59ms/step - loss: 0.1781 - accuracy: 0.9342 - val_loss: 0.2922 - val_accuracy: 0.8952\n",
            "Epoch 9/10\n",
            "750/750 [==============================] - 42s 56ms/step - loss: 0.1629 - accuracy: 0.9398 - val_loss: 0.2775 - val_accuracy: 0.9044\n",
            "Epoch 10/10\n",
            "750/750 [==============================] - 42s 56ms/step - loss: 0.1473 - accuracy: 0.9463 - val_loss: 0.2653 - val_accuracy: 0.9050\n"
          ]
        },
        {
          "data": {
            "text/plain": [
              "<keras.src.callbacks.History at 0x7b4257c58700>"
            ]
          },
          "execution_count": 6,
          "metadata": {},
          "output_type": "execute_result"
        }
      ],
      "source": [
        "model.fit(train_images, train_labels, epochs=10, batch_size=64, validation_data=(test_images, test_labels))\n"
      ]
    },
    {
      "cell_type": "code",
      "execution_count": null,
      "metadata": {
        "colab": {
          "base_uri": "https://localhost:8080/"
        },
        "id": "j1IxIHBHVVlc",
        "outputId": "284e436b-721e-4a9b-8ea7-243c334514d5"
      },
      "outputs": [
        {
          "name": "stdout",
          "output_type": "stream",
          "text": [
            "313/313 [==============================] - 4s 13ms/step - loss: 0.2735 - accuracy: 0.9044\n",
            "Test Loss: 0.2735, Test Accuracy: 0.9044\n"
          ]
        }
      ],
      "source": [
        "test_loss, test_accuracy = model.evaluate(test_images, test_labels)\n",
        "print(f\"Test Loss: {test_loss:.4f}, Test Accuracy: {test_accuracy:.4f}\")"
      ]
    },
    {
      "cell_type": "markdown",
      "metadata": {
        "id": "9BHg1GiumIvx"
      },
      "source": [
        "##Conclusion"
      ]
    },
    {
      "cell_type": "markdown",
      "metadata": {
        "id": "kKWBhXErmK9m"
      },
      "source": [
        "Copmared with defaul neural network, CNN shows better little bit better accurancy (+2,4%) and the big advantage for me is faster learning time."
      ]
    }
  ],
  "metadata": {
    "colab": {
      "provenance": []
    },
    "kernelspec": {
      "display_name": "Python 3",
      "name": "python3"
    },
    "language_info": {
      "name": "python"
    }
  },
  "nbformat": 4,
  "nbformat_minor": 0
}