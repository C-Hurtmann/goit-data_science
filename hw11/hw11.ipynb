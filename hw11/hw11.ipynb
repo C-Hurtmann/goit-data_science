{
  "nbformat": 4,
  "nbformat_minor": 0,
  "metadata": {
    "colab": {
      "provenance": []
    },
    "kernelspec": {
      "name": "python3",
      "display_name": "Python 3"
    },
    "language_info": {
      "name": "python"
    }
  },
  "cells": [
    {
      "cell_type": "code",
      "execution_count": 1,
      "metadata": {
        "id": "MAc0k9eUJcV1"
      },
      "outputs": [],
      "source": [
        "import numpy as np\n",
        "import tensorflow as tf\n",
        "import matplotlib.pyplot as plt\n",
        "from keras.datasets import imdb\n",
        "from keras.utils import pad_sequences\n",
        "from keras.models import Sequential\n",
        "from keras import layers"
      ]
    },
    {
      "cell_type": "code",
      "source": [
        "max_features = 10000\n",
        "maxlen = 500\n",
        "\n",
        "(train_data, train_labels), (test_data, test_labels) = imdb.load_data(num_words=max_features)\n",
        "train_data = pad_sequences(train_data, maxlen=maxlen)\n",
        "test_data = pad_sequences(test_data, maxlen=maxlen)"
      ],
      "metadata": {
        "colab": {
          "base_uri": "https://localhost:8080/"
        },
        "id": "8T8UUdDiKGsP",
        "outputId": "3d38dfd4-acf1-4fce-9b31-0e1d5ea15b77"
      },
      "execution_count": 2,
      "outputs": [
        {
          "output_type": "stream",
          "name": "stdout",
          "text": [
            "Downloading data from https://storage.googleapis.com/tensorflow/tf-keras-datasets/imdb.npz\n",
            "17464789/17464789 [==============================] - 0s 0us/step\n"
          ]
        }
      ]
    },
    {
      "cell_type": "markdown",
      "source": [
        "#RNN"
      ],
      "metadata": {
        "id": "DBd97pCsKXVQ"
      }
    },
    {
      "cell_type": "code",
      "source": [
        "model = Sequential([\n",
        "    layers.Embedding(max_features, 32),\n",
        "    layers.SimpleRNN(32),\n",
        "    layers.Dense(1, activation='sigmoid')\n",
        "])\n",
        "\n",
        "model.compile(\n",
        "    optimizer='adam',\n",
        "    loss='binary_crossentropy',\n",
        "    metrics=['accuracy']\n",
        "    )"
      ],
      "metadata": {
        "id": "pwPfQFb2KIuy"
      },
      "execution_count": 3,
      "outputs": []
    },
    {
      "cell_type": "code",
      "source": [
        "model.summary()"
      ],
      "metadata": {
        "colab": {
          "base_uri": "https://localhost:8080/"
        },
        "id": "wMdpVf3VKdC8",
        "outputId": "a9accbc3-22ae-4e5d-b92a-93b82f542a64"
      },
      "execution_count": 4,
      "outputs": [
        {
          "output_type": "stream",
          "name": "stdout",
          "text": [
            "Model: \"sequential\"\n",
            "_________________________________________________________________\n",
            " Layer (type)                Output Shape              Param #   \n",
            "=================================================================\n",
            " embedding (Embedding)       (None, None, 32)          320000    \n",
            "                                                                 \n",
            " simple_rnn (SimpleRNN)      (None, 32)                2080      \n",
            "                                                                 \n",
            " dense (Dense)               (None, 1)                 33        \n",
            "                                                                 \n",
            "=================================================================\n",
            "Total params: 322113 (1.23 MB)\n",
            "Trainable params: 322113 (1.23 MB)\n",
            "Non-trainable params: 0 (0.00 Byte)\n",
            "_________________________________________________________________\n"
          ]
        }
      ]
    },
    {
      "cell_type": "code",
      "source": [
        "model.fit(train_data, train_labels, epochs=5, batch_size=32, validation_split=0.3)"
      ],
      "metadata": {
        "colab": {
          "base_uri": "https://localhost:8080/"
        },
        "id": "i-r6s6vAK6It",
        "outputId": "704e097c-52ac-4d47-ef8a-f6baae62f35f"
      },
      "execution_count": 5,
      "outputs": [
        {
          "output_type": "stream",
          "name": "stdout",
          "text": [
            "Epoch 1/5\n",
            "547/547 [==============================] - 65s 115ms/step - loss: 0.6217 - accuracy: 0.6470 - val_loss: 0.5984 - val_accuracy: 0.6751\n",
            "Epoch 2/5\n",
            "547/547 [==============================] - 64s 118ms/step - loss: 0.4010 - accuracy: 0.8261 - val_loss: 0.5059 - val_accuracy: 0.7468\n",
            "Epoch 3/5\n",
            "547/547 [==============================] - 63s 115ms/step - loss: 0.2518 - accuracy: 0.9027 - val_loss: 0.4499 - val_accuracy: 0.8236\n",
            "Epoch 4/5\n",
            "547/547 [==============================] - 63s 115ms/step - loss: 0.3539 - accuracy: 0.8394 - val_loss: 0.6957 - val_accuracy: 0.6756\n",
            "Epoch 5/5\n",
            "547/547 [==============================] - 76s 139ms/step - loss: 0.1123 - accuracy: 0.9634 - val_loss: 0.6021 - val_accuracy: 0.7848\n"
          ]
        },
        {
          "output_type": "execute_result",
          "data": {
            "text/plain": [
              "<keras.src.callbacks.History at 0x7c541cc7b3d0>"
            ]
          },
          "metadata": {},
          "execution_count": 5
        }
      ]
    },
    {
      "cell_type": "code",
      "source": [
        "test_loss, test_acc = model.evaluate(test_data, test_labels)\n",
        "print(f\"Test accuracy: {test_acc}\")"
      ],
      "metadata": {
        "colab": {
          "base_uri": "https://localhost:8080/"
        },
        "id": "ZkQdx_oILHnP",
        "outputId": "5d6ae147-262a-420c-8734-03df851b3fe9"
      },
      "execution_count": 6,
      "outputs": [
        {
          "output_type": "stream",
          "name": "stdout",
          "text": [
            "782/782 [==============================] - 19s 25ms/step - loss: 0.6131 - accuracy: 0.7790\n",
            "Test accuracy: 0.7790399789810181\n",
            "Test loss: 0.6130545139312744\n"
          ]
        }
      ]
    },
    {
      "cell_type": "markdown",
      "source": [
        "#LSTM"
      ],
      "metadata": {
        "id": "NMF_fOVPPffF"
      }
    },
    {
      "cell_type": "code",
      "source": [
        "model = Sequential([\n",
        "    layers.Embedding(max_features, 32),\n",
        "    layers.LSTM(32),\n",
        "    layers.Dense(1, activation='sigmoid')\n",
        "])\n",
        "\n",
        "model.compile(\n",
        "    optimizer='adam',\n",
        "    loss='binary_crossentropy',\n",
        "    metrics=['accuracy']\n",
        "    )"
      ],
      "metadata": {
        "id": "HoW4cJxzPhY_"
      },
      "execution_count": 7,
      "outputs": []
    },
    {
      "cell_type": "code",
      "source": [
        "model.summary()"
      ],
      "metadata": {
        "colab": {
          "base_uri": "https://localhost:8080/"
        },
        "id": "Uux7Tn9qP5RU",
        "outputId": "a7576262-9984-442b-c629-c2ccc5472578"
      },
      "execution_count": 8,
      "outputs": [
        {
          "output_type": "stream",
          "name": "stdout",
          "text": [
            "Model: \"sequential_1\"\n",
            "_________________________________________________________________\n",
            " Layer (type)                Output Shape              Param #   \n",
            "=================================================================\n",
            " embedding_1 (Embedding)     (None, None, 32)          320000    \n",
            "                                                                 \n",
            " lstm (LSTM)                 (None, 32)                8320      \n",
            "                                                                 \n",
            " dense_1 (Dense)             (None, 1)                 33        \n",
            "                                                                 \n",
            "=================================================================\n",
            "Total params: 328353 (1.25 MB)\n",
            "Trainable params: 328353 (1.25 MB)\n",
            "Non-trainable params: 0 (0.00 Byte)\n",
            "_________________________________________________________________\n"
          ]
        }
      ]
    },
    {
      "cell_type": "code",
      "source": [
        "model.fit(train_data, train_labels, epochs=5, batch_size=32, validation_split=0.3)"
      ],
      "metadata": {
        "colab": {
          "base_uri": "https://localhost:8080/"
        },
        "id": "kdFK2RTLP75K",
        "outputId": "09573479-b682-4376-8a03-3607a30300e7"
      },
      "execution_count": 9,
      "outputs": [
        {
          "output_type": "stream",
          "name": "stdout",
          "text": [
            "Epoch 1/5\n",
            "547/547 [==============================] - 141s 253ms/step - loss: 0.4573 - accuracy: 0.7822 - val_loss: 0.3728 - val_accuracy: 0.8433\n",
            "Epoch 2/5\n",
            "547/547 [==============================] - 144s 263ms/step - loss: 0.2831 - accuracy: 0.8903 - val_loss: 0.3240 - val_accuracy: 0.8683\n",
            "Epoch 3/5\n",
            "547/547 [==============================] - 140s 255ms/step - loss: 0.2038 - accuracy: 0.9233 - val_loss: 0.3890 - val_accuracy: 0.8499\n",
            "Epoch 4/5\n",
            "547/547 [==============================] - 121s 220ms/step - loss: 0.1554 - accuracy: 0.9448 - val_loss: 0.3626 - val_accuracy: 0.8633\n",
            "Epoch 5/5\n",
            "547/547 [==============================] - 119s 217ms/step - loss: 0.1124 - accuracy: 0.9618 - val_loss: 0.4320 - val_accuracy: 0.8639\n"
          ]
        },
        {
          "output_type": "execute_result",
          "data": {
            "text/plain": [
              "<keras.src.callbacks.History at 0x7c5421d0ef20>"
            ]
          },
          "metadata": {},
          "execution_count": 9
        }
      ]
    },
    {
      "cell_type": "code",
      "source": [
        "test_loss, test_acc = model.evaluate(test_data, test_labels)\n",
        "print(f\"Test accuracy: {test_acc}\")"
      ],
      "metadata": {
        "colab": {
          "base_uri": "https://localhost:8080/"
        },
        "id": "wMz6MEWOP_WE",
        "outputId": "e3e7657b-c45c-4d47-c76d-4f3dfe430a1a"
      },
      "execution_count": 10,
      "outputs": [
        {
          "output_type": "stream",
          "name": "stdout",
          "text": [
            "782/782 [==============================] - 33s 42ms/step - loss: 0.4401 - accuracy: 0.8604\n",
            "Test accuracy: 0.8604000210762024\n"
          ]
        }
      ]
    },
    {
      "cell_type": "markdown",
      "source": [
        "#BRNN"
      ],
      "metadata": {
        "id": "SkZHKd4yQOTn"
      }
    },
    {
      "cell_type": "code",
      "source": [
        "model = Sequential([\n",
        "    layers.Embedding(max_features, 32),\n",
        "    layers.Bidirectional(layers.LSTM(32)),\n",
        "    layers.Dense(1, activation='sigmoid')\n",
        "])\n",
        "\n",
        "model.compile(\n",
        "    optimizer='adam',\n",
        "    loss='binary_crossentropy',\n",
        "    metrics=['accuracy']\n",
        "    )"
      ],
      "metadata": {
        "id": "Rior8gRpQP_4"
      },
      "execution_count": 16,
      "outputs": []
    },
    {
      "cell_type": "code",
      "source": [
        "model.summary()"
      ],
      "metadata": {
        "colab": {
          "base_uri": "https://localhost:8080/"
        },
        "id": "fd5ZN69WQtY_",
        "outputId": "8bedce9f-f55a-44d2-ee3a-57d2723d60f3"
      },
      "execution_count": 13,
      "outputs": [
        {
          "output_type": "stream",
          "name": "stdout",
          "text": [
            "Model: \"sequential_2\"\n",
            "_________________________________________________________________\n",
            " Layer (type)                Output Shape              Param #   \n",
            "=================================================================\n",
            " embedding_3 (Embedding)     (None, None, 32)          320000    \n",
            "                                                                 \n",
            " bidirectional_1 (Bidirecti  (None, 64)                16640     \n",
            " onal)                                                           \n",
            "                                                                 \n",
            " dense_2 (Dense)             (None, 1)                 65        \n",
            "                                                                 \n",
            "=================================================================\n",
            "Total params: 336705 (1.28 MB)\n",
            "Trainable params: 336705 (1.28 MB)\n",
            "Non-trainable params: 0 (0.00 Byte)\n",
            "_________________________________________________________________\n"
          ]
        }
      ]
    },
    {
      "cell_type": "code",
      "source": [
        "model.fit(train_data, train_labels, epochs=5, batch_size=32, validation_split=0.3)"
      ],
      "metadata": {
        "colab": {
          "base_uri": "https://localhost:8080/"
        },
        "id": "4ZFDb8UZQvK5",
        "outputId": "e69b32c5-97ef-4c48-f498-a0c5c5079e74"
      },
      "execution_count": 14,
      "outputs": [
        {
          "output_type": "stream",
          "name": "stdout",
          "text": [
            "Epoch 1/5\n",
            "547/547 [==============================] - 213s 383ms/step - loss: 0.5397 - accuracy: 0.7349 - val_loss: 0.3678 - val_accuracy: 0.8476\n",
            "Epoch 2/5\n",
            "547/547 [==============================] - 206s 376ms/step - loss: 0.2769 - accuracy: 0.8917 - val_loss: 0.3093 - val_accuracy: 0.8712\n",
            "Epoch 3/5\n",
            "547/547 [==============================] - 210s 383ms/step - loss: 0.2294 - accuracy: 0.9130 - val_loss: 0.3305 - val_accuracy: 0.8695\n",
            "Epoch 4/5\n",
            "547/547 [==============================] - 211s 385ms/step - loss: 0.1512 - accuracy: 0.9462 - val_loss: 0.3312 - val_accuracy: 0.8731\n",
            "Epoch 5/5\n",
            "547/547 [==============================] - 210s 383ms/step - loss: 0.1205 - accuracy: 0.9586 - val_loss: 0.3709 - val_accuracy: 0.8721\n"
          ]
        },
        {
          "output_type": "execute_result",
          "data": {
            "text/plain": [
              "<keras.src.callbacks.History at 0x7c54208120e0>"
            ]
          },
          "metadata": {},
          "execution_count": 14
        }
      ]
    },
    {
      "cell_type": "code",
      "source": [
        "test_loss, test_acc = model.evaluate(test_data, test_labels)\n",
        "print(f\"Test accuracy: {test_acc}\")"
      ],
      "metadata": {
        "colab": {
          "base_uri": "https://localhost:8080/"
        },
        "id": "wLl84BKoQ1Hz",
        "outputId": "8900ad3e-5f4e-4d48-c93d-7988b337d1c5"
      },
      "execution_count": 15,
      "outputs": [
        {
          "output_type": "stream",
          "name": "stdout",
          "text": [
            "782/782 [==============================] - 54s 69ms/step - loss: 0.4065 - accuracy: 0.8611\n",
            "Test accuracy: 0.8610799908638\n"
          ]
        }
      ]
    },
    {
      "cell_type": "markdown",
      "source": [
        "#DRNN"
      ],
      "metadata": {
        "id": "vxfu4eILQ5C_"
      }
    },
    {
      "cell_type": "code",
      "source": [
        "model = Sequential([\n",
        "    layers.Embedding(max_features, 32),\n",
        "    layers.Bidirectional(layers.LSTM(32, return_sequences=True)),\n",
        "    layers.Bidirectional(layers.LSTM(32)),\n",
        "    layers.Dense(1, activation='sigmoid')\n",
        "])\n",
        "\n",
        "model.compile(\n",
        "    optimizer='adam',\n",
        "    loss='binary_crossentropy',\n",
        "    metrics=['accuracy']\n",
        "    )"
      ],
      "metadata": {
        "id": "Hl_dLh9VQ6am"
      },
      "execution_count": 17,
      "outputs": []
    },
    {
      "cell_type": "code",
      "source": [
        "model.summary()"
      ],
      "metadata": {
        "colab": {
          "base_uri": "https://localhost:8080/"
        },
        "id": "FijxGM9hRTIq",
        "outputId": "f95f5d54-d382-43ad-b7c4-3b5259cab6d5"
      },
      "execution_count": 18,
      "outputs": [
        {
          "output_type": "stream",
          "name": "stdout",
          "text": [
            "Model: \"sequential_4\"\n",
            "_________________________________________________________________\n",
            " Layer (type)                Output Shape              Param #   \n",
            "=================================================================\n",
            " embedding_5 (Embedding)     (None, None, 32)          320000    \n",
            "                                                                 \n",
            " bidirectional_3 (Bidirecti  (None, None, 64)          16640     \n",
            " onal)                                                           \n",
            "                                                                 \n",
            " bidirectional_4 (Bidirecti  (None, 64)                24832     \n",
            " onal)                                                           \n",
            "                                                                 \n",
            " dense_4 (Dense)             (None, 1)                 65        \n",
            "                                                                 \n",
            "=================================================================\n",
            "Total params: 361537 (1.38 MB)\n",
            "Trainable params: 361537 (1.38 MB)\n",
            "Non-trainable params: 0 (0.00 Byte)\n",
            "_________________________________________________________________\n"
          ]
        }
      ]
    },
    {
      "cell_type": "code",
      "source": [
        "model.fit(train_data, train_labels, epochs=5, batch_size=32, validation_split=0.3)"
      ],
      "metadata": {
        "colab": {
          "base_uri": "https://localhost:8080/"
        },
        "id": "Mji9A0e5RVsm",
        "outputId": "89016d8a-c74e-4abc-b7d4-1d9ff6a5eeef"
      },
      "execution_count": 20,
      "outputs": [
        {
          "output_type": "stream",
          "name": "stdout",
          "text": [
            "Epoch 1/5\n",
            "547/547 [==============================] - 457s 835ms/step - loss: 0.0618 - accuracy: 0.9805 - val_loss: 0.5062 - val_accuracy: 0.8627\n",
            "Epoch 2/5\n",
            "547/547 [==============================] - 449s 821ms/step - loss: 0.0551 - accuracy: 0.9830 - val_loss: 0.5610 - val_accuracy: 0.8599\n",
            "Epoch 3/5\n",
            "547/547 [==============================] - 450s 823ms/step - loss: 0.0429 - accuracy: 0.9869 - val_loss: 0.6632 - val_accuracy: 0.8244\n",
            "Epoch 4/5\n",
            "547/547 [==============================] - 448s 819ms/step - loss: 0.0533 - accuracy: 0.9827 - val_loss: 0.5913 - val_accuracy: 0.8147\n",
            "Epoch 5/5\n",
            "547/547 [==============================] - 447s 817ms/step - loss: 0.0452 - accuracy: 0.9855 - val_loss: 0.5549 - val_accuracy: 0.8501\n"
          ]
        },
        {
          "output_type": "execute_result",
          "data": {
            "text/plain": [
              "<keras.src.callbacks.History at 0x7c54205e61a0>"
            ]
          },
          "metadata": {},
          "execution_count": 20
        }
      ]
    },
    {
      "cell_type": "code",
      "source": [
        "test_loss, test_acc = model.evaluate(test_data, test_labels)\n",
        "print(f\"Test accuracy: {test_acc}\")"
      ],
      "metadata": {
        "colab": {
          "base_uri": "https://localhost:8080/"
        },
        "id": "AX15Oe1jRXKq",
        "outputId": "7b9a6d38-f0b8-49f1-9f64-73c4b7b1fffc"
      },
      "execution_count": 21,
      "outputs": [
        {
          "output_type": "stream",
          "name": "stdout",
          "text": [
            "782/782 [==============================] - 128s 164ms/step - loss: 0.5713 - accuracy: 0.8450\n",
            "Test accuracy: 0.8450000286102295\n"
          ]
        }
      ]
    },
    {
      "cell_type": "markdown",
      "source": [
        "#Conclusion"
      ],
      "metadata": {
        "id": "cjvnGaztgNnJ"
      }
    },
    {
      "cell_type": "markdown",
      "source": [
        "The winner is BRNN. With very small margin on second place LSTM. And the worst in this competition is RNN."
      ],
      "metadata": {
        "id": "7RRTlepdgPbG"
      }
    }
  ]
}