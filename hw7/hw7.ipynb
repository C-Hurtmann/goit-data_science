{
  "nbformat": 4,
  "nbformat_minor": 0,
  "metadata": {
    "colab": {
      "provenance": []
    },
    "kernelspec": {
      "name": "python3",
      "display_name": "Python 3"
    },
    "language_info": {
      "name": "python"
    }
  },
  "cells": [
    {
      "cell_type": "code",
      "source": [
        "!pip3 install scikit-surprise"
      ],
      "metadata": {
        "colab": {
          "base_uri": "https://localhost:8080/"
        },
        "id": "pCMq7AWhkHc0",
        "outputId": "aa0842d4-8eec-4d34-a112-97ec81a3d8b8"
      },
      "execution_count": 25,
      "outputs": [
        {
          "output_type": "stream",
          "name": "stdout",
          "text": [
            "Requirement already satisfied: scikit-surprise in /usr/local/lib/python3.10/dist-packages (1.1.3)\n",
            "Requirement already satisfied: joblib>=1.0.0 in /usr/local/lib/python3.10/dist-packages (from scikit-surprise) (1.3.2)\n",
            "Requirement already satisfied: numpy>=1.17.3 in /usr/local/lib/python3.10/dist-packages (from scikit-surprise) (1.23.5)\n",
            "Requirement already satisfied: scipy>=1.3.2 in /usr/local/lib/python3.10/dist-packages (from scikit-surprise) (1.11.2)\n"
          ]
        }
      ]
    },
    {
      "cell_type": "code",
      "execution_count": 26,
      "metadata": {
        "id": "t_TilxUoWmJo"
      },
      "outputs": [],
      "source": [
        "from surprise import Dataset\n",
        "from surprise.model_selection import train_test_split"
      ]
    },
    {
      "cell_type": "code",
      "source": [
        "data = Dataset.load_builtin('ml-100k')\n",
        "\n",
        "trainset, testset = train_test_split(data, test_size=0.2)"
      ],
      "metadata": {
        "id": "fiq3KUCifzum"
      },
      "execution_count": 27,
      "outputs": []
    },
    {
      "cell_type": "markdown",
      "source": [
        "## All params were selected with grid search"
      ],
      "metadata": {
        "id": "6OSBHP6G-iTy"
      }
    },
    {
      "cell_type": "markdown",
      "source": [
        "# SVD model"
      ],
      "metadata": {
        "id": "87s4aY3yeSz1"
      }
    },
    {
      "cell_type": "code",
      "source": [
        "from surprise import SVD, accuracy"
      ],
      "metadata": {
        "id": "RivO3LEveXFS"
      },
      "execution_count": 28,
      "outputs": []
    },
    {
      "cell_type": "code",
      "source": [
        "svd = SVD(n_factors=30, n_epochs=40, lr_all=0.005, reg_all=0.06)\n",
        "svd.fit(trainset)\n",
        "predictions = svd.test(testset)\n",
        "\n",
        "rmse = accuracy.rmse(predictions)\n",
        "mae = accuracy.mae(predictions)"
      ],
      "metadata": {
        "colab": {
          "base_uri": "https://localhost:8080/"
        },
        "id": "ooxmI2HOARl1",
        "outputId": "7bed585d-dceb-4c82-fc3a-258dc2298540"
      },
      "execution_count": 29,
      "outputs": [
        {
          "output_type": "stream",
          "name": "stdout",
          "text": [
            "RMSE: 0.9219\n",
            "MAE:  0.7277\n"
          ]
        }
      ]
    },
    {
      "cell_type": "markdown",
      "source": [
        "#SVD ++ model"
      ],
      "metadata": {
        "id": "gA2PIv-X9v9O"
      }
    },
    {
      "cell_type": "code",
      "source": [
        "from surprise import SVDpp"
      ],
      "metadata": {
        "id": "qTK4Rwlr4E7m"
      },
      "execution_count": 30,
      "outputs": []
    },
    {
      "cell_type": "code",
      "source": [
        "svdpp = SVDpp(n_factors=30, n_epochs=40, lr_all=0.005, reg_all=0.06)\n",
        "svdpp.fit(trainset)\n",
        "predictions = svdpp.test(testset)\n",
        "\n",
        "rmse = accuracy.rmse(predictions)\n",
        "mae = accuracy.mae(predictions)"
      ],
      "metadata": {
        "colab": {
          "base_uri": "https://localhost:8080/"
        },
        "id": "zACWFmmH4BAk",
        "outputId": "3031177e-45af-4015-f25a-cdbc66ef1060"
      },
      "execution_count": 31,
      "outputs": [
        {
          "output_type": "stream",
          "name": "stdout",
          "text": [
            "RMSE: 0.9157\n",
            "MAE:  0.7208\n"
          ]
        }
      ]
    },
    {
      "cell_type": "markdown",
      "source": [
        "# NMF model"
      ],
      "metadata": {
        "id": "Yn59CbYY9zAQ"
      }
    },
    {
      "cell_type": "code",
      "source": [
        "from surprise import NMF"
      ],
      "metadata": {
        "id": "YlZn4vwG7EgU"
      },
      "execution_count": 32,
      "outputs": []
    },
    {
      "cell_type": "code",
      "source": [
        "nmf = NMF(n_factors=10, n_epochs=40, reg_pu=0.06, reg_qi=0.06, biased=True)\n",
        "nmf.fit(trainset)\n",
        "predictions = nmf.test(testset)\n",
        "\n",
        "rmse = accuracy.rmse(predictions)\n",
        "mae = accuracy.mae(predictions)"
      ],
      "metadata": {
        "colab": {
          "base_uri": "https://localhost:8080/"
        },
        "id": "xjeZIe9f7E_L",
        "outputId": "925149c3-5d72-4d71-8b70-3472a9d0589c"
      },
      "execution_count": 33,
      "outputs": [
        {
          "output_type": "stream",
          "name": "stdout",
          "text": [
            "RMSE: 0.9390\n",
            "MAE:  0.7408\n"
          ]
        }
      ]
    },
    {
      "cell_type": "markdown",
      "source": [
        "# Conclusion"
      ],
      "metadata": {
        "id": "FKjJu9U-9I13"
      }
    },
    {
      "cell_type": "markdown",
      "source": [
        "## Firstly prepare Baseline model to compare it's results with our model"
      ],
      "metadata": {
        "id": "_k8dRrDYAj2f"
      }
    },
    {
      "cell_type": "code",
      "source": [
        "from surprise import BaselineOnly"
      ],
      "metadata": {
        "id": "4DM6UMFjNhnn"
      },
      "execution_count": 34,
      "outputs": []
    },
    {
      "cell_type": "code",
      "source": [
        "baseline_model = BaselineOnly(bsl_options={'method': 'als'})\n",
        "baseline_model.fit(trainset)\n",
        "predictions = baseline_model.test(testset)\n",
        "\n",
        "rmse = accuracy.rmse(predictions)\n",
        "mae = accuracy.mae(predictions)"
      ],
      "metadata": {
        "colab": {
          "base_uri": "https://localhost:8080/"
        },
        "id": "mWkLqxZxNlNZ",
        "outputId": "77c07acd-b61b-4752-eed7-ac78f548813a"
      },
      "execution_count": 35,
      "outputs": [
        {
          "output_type": "stream",
          "name": "stdout",
          "text": [
            "Estimating biases using als...\n",
            "RMSE: 0.9491\n",
            "MAE:  0.7518\n"
          ]
        }
      ]
    },
    {
      "cell_type": "markdown",
      "source": [
        "All models showed better results than the Baseline model, so using all models is appropriate"
      ],
      "metadata": {
        "id": "q51bVe9kD0CI"
      }
    },
    {
      "cell_type": "markdown",
      "source": [
        "The best results for SVD ++ model"
      ],
      "metadata": {
        "id": "BH6qOAAEEunt"
      }
    }
  ]
}