{
  "cells": [
    {
      "cell_type": "code",
      "execution_count": 1,
      "metadata": {
        "id": "AfmLt-gI7ltB"
      },
      "outputs": [],
      "source": [
        "import tensorflow as tf"
      ]
    },
    {
      "cell_type": "code",
      "execution_count": 2,
      "metadata": {
        "colab": {
          "base_uri": "https://localhost:8080/"
        },
        "id": "YBo2xd_a72Qs",
        "outputId": "55f57c0e-f328-48f6-d7cf-b25af4d9c7b7"
      },
      "outputs": [
        {
          "output_type": "stream",
          "name": "stdout",
          "text": [
            "Collecting keras-tuner\n",
            "  Downloading keras_tuner-1.4.5-py3-none-any.whl (129 kB)\n",
            "\u001b[2K     \u001b[90m━━━━━━━━━━━━━━━━━━━━━━━━━━━━━━━━━━━━━━━━\u001b[0m \u001b[32m129.5/129.5 kB\u001b[0m \u001b[31m2.8 MB/s\u001b[0m eta \u001b[36m0:00:00\u001b[0m\n",
            "\u001b[?25hCollecting keras-core (from keras-tuner)\n",
            "  Downloading keras_core-0.1.7-py3-none-any.whl (950 kB)\n",
            "\u001b[2K     \u001b[90m━━━━━━━━━━━━━━━━━━━━━━━━━━━━━━━━━━━━━━━━\u001b[0m \u001b[32m950.8/950.8 kB\u001b[0m \u001b[31m23.0 MB/s\u001b[0m eta \u001b[36m0:00:00\u001b[0m\n",
            "\u001b[?25hRequirement already satisfied: packaging in /usr/local/lib/python3.10/dist-packages (from keras-tuner) (23.2)\n",
            "Requirement already satisfied: requests in /usr/local/lib/python3.10/dist-packages (from keras-tuner) (2.31.0)\n",
            "Collecting kt-legacy (from keras-tuner)\n",
            "  Downloading kt_legacy-1.0.5-py3-none-any.whl (9.6 kB)\n",
            "Requirement already satisfied: absl-py in /usr/local/lib/python3.10/dist-packages (from keras-core->keras-tuner) (1.4.0)\n",
            "Requirement already satisfied: numpy in /usr/local/lib/python3.10/dist-packages (from keras-core->keras-tuner) (1.23.5)\n",
            "Requirement already satisfied: rich in /usr/local/lib/python3.10/dist-packages (from keras-core->keras-tuner) (13.6.0)\n",
            "Collecting namex (from keras-core->keras-tuner)\n",
            "  Downloading namex-0.0.7-py3-none-any.whl (5.8 kB)\n",
            "Requirement already satisfied: h5py in /usr/local/lib/python3.10/dist-packages (from keras-core->keras-tuner) (3.9.0)\n",
            "Requirement already satisfied: dm-tree in /usr/local/lib/python3.10/dist-packages (from keras-core->keras-tuner) (0.1.8)\n",
            "Requirement already satisfied: charset-normalizer<4,>=2 in /usr/local/lib/python3.10/dist-packages (from requests->keras-tuner) (3.3.0)\n",
            "Requirement already satisfied: idna<4,>=2.5 in /usr/local/lib/python3.10/dist-packages (from requests->keras-tuner) (3.4)\n",
            "Requirement already satisfied: urllib3<3,>=1.21.1 in /usr/local/lib/python3.10/dist-packages (from requests->keras-tuner) (2.0.7)\n",
            "Requirement already satisfied: certifi>=2017.4.17 in /usr/local/lib/python3.10/dist-packages (from requests->keras-tuner) (2023.7.22)\n",
            "Requirement already satisfied: markdown-it-py>=2.2.0 in /usr/local/lib/python3.10/dist-packages (from rich->keras-core->keras-tuner) (3.0.0)\n",
            "Requirement already satisfied: pygments<3.0.0,>=2.13.0 in /usr/local/lib/python3.10/dist-packages (from rich->keras-core->keras-tuner) (2.16.1)\n",
            "Requirement already satisfied: mdurl~=0.1 in /usr/local/lib/python3.10/dist-packages (from markdown-it-py>=2.2.0->rich->keras-core->keras-tuner) (0.1.2)\n",
            "Installing collected packages: namex, kt-legacy, keras-core, keras-tuner\n",
            "Successfully installed keras-core-0.1.7 keras-tuner-1.4.5 kt-legacy-1.0.5 namex-0.0.7\n"
          ]
        }
      ],
      "source": [
        "!pip install keras-tuner"
      ]
    },
    {
      "cell_type": "code",
      "execution_count": 3,
      "metadata": {
        "colab": {
          "base_uri": "https://localhost:8080/"
        },
        "id": "tLM6MTwP8DRB",
        "outputId": "48db7f19-c4bd-4eef-944e-d464d5a756db"
      },
      "outputs": [
        {
          "output_type": "stream",
          "name": "stdout",
          "text": [
            "Downloading data from https://storage.googleapis.com/tensorflow/tf-keras-datasets/train-labels-idx1-ubyte.gz\n",
            "29515/29515 [==============================] - 0s 0us/step\n",
            "Downloading data from https://storage.googleapis.com/tensorflow/tf-keras-datasets/train-images-idx3-ubyte.gz\n",
            "26421880/26421880 [==============================] - 0s 0us/step\n",
            "Downloading data from https://storage.googleapis.com/tensorflow/tf-keras-datasets/t10k-labels-idx1-ubyte.gz\n",
            "5148/5148 [==============================] - 0s 0us/step\n",
            "Downloading data from https://storage.googleapis.com/tensorflow/tf-keras-datasets/t10k-images-idx3-ubyte.gz\n",
            "4422102/4422102 [==============================] - 0s 0us/step\n"
          ]
        }
      ],
      "source": [
        "(X_train, y_train), (X_test, y_test) = tf.keras.datasets.fashion_mnist.load_data()"
      ]
    },
    {
      "cell_type": "code",
      "execution_count": 4,
      "metadata": {
        "colab": {
          "base_uri": "https://localhost:8080/",
          "height": 447
        },
        "id": "veLGw7nv8Y1-",
        "outputId": "9801106f-86b1-46f1-8176-bb5f95894433"
      },
      "outputs": [
        {
          "output_type": "execute_result",
          "data": {
            "text/plain": [
              "<matplotlib.image.AxesImage at 0x7f7e5bb8ab00>"
            ]
          },
          "metadata": {},
          "execution_count": 4
        },
        {
          "output_type": "display_data",
          "data": {
            "text/plain": [
              "<Figure size 640x480 with 1 Axes>"
            ],
            "image/png": "[encoded data removed]"
          },
          "metadata": {}
        }
      ],
      "source": [
        "import matplotlib.pyplot as plt\n",
        "\n",
        "plt.imshow(X_train[0])"
      ]
    },
    {
      "cell_type": "code",
      "execution_count": 5,
      "metadata": {
        "id": "LQGP86Jj8glk"
      },
      "outputs": [],
      "source": [
        "X_train = X_train / 255.0\n",
        "X_test = X_test / 255.0"
      ]
    },
    {
      "cell_type": "code",
      "execution_count": 6,
      "metadata": {
        "id": "iTB7shrL9ZLB"
      },
      "outputs": [],
      "source": [
        "def build_model(hp):\n",
        "  model = tf.keras.Sequential()\n",
        "  model.add(tf.keras.layers.Flatten(input_shape=(28, 28)))\n",
        "\n",
        "  hp_activation = hp.Choice('activation', values=['relu', 'swish', 'gelu'])\n",
        "  hp_layer_1 = hp.Int('layer_1', min_value=1, max_value=1000, step=100)\n",
        "  hp_layer_2 = hp.Int('layer_2', min_value=1, max_value=1000, step=100)\n",
        "  hp_learning_rate = hp.Choice('learning_rate', values=[1e-2, 1e-3, 1e-4])\n",
        "\n",
        "  model.add(tf.keras.layers.Dense(units=hp_layer_1, activation=hp_activation))\n",
        "  model.add(tf.keras.layers.Dense(units=hp_layer_2, activation=hp_activation))\n",
        "  model.add(tf.keras.layers.Dense(10, activation='softmax'))\n",
        "\n",
        "  model.compile(optimizer=tf.keras.optimizers.Adam(learning_rate=hp_learning_rate),\n",
        "                loss=tf.keras.losses.SparseCategoricalCrossentropy(),\n",
        "                metrics=['accuracy'])\n",
        "\n",
        "  return model"
      ]
    },
    {
      "cell_type": "code",
      "execution_count": 7,
      "metadata": {
        "colab": {
          "base_uri": "https://localhost:8080/"
        },
        "id": "xD86p_eKBxor",
        "outputId": "ea5903f2-921d-4b35-9931-77715f13c67e"
      },
      "outputs": [
        {
          "output_type": "stream",
          "name": "stdout",
          "text": [
            "Using TensorFlow backend\n"
          ]
        }
      ],
      "source": [
        "import keras_tuner as kt\n",
        "\n",
        "tuner = kt.Hyperband(build_model,\n",
        "                     objective=kt.Objective(\"val_accuracy\", direction=\"max\"),\n",
        "                     max_epochs=10,\n",
        "                     factor=3,\n",
        "                     directory='model',\n",
        "                     project_name='fashion_mnist')"
      ]
    },
    {
      "cell_type": "code",
      "execution_count": 8,
      "metadata": {
        "id": "f-lovT0TDgGV"
      },
      "outputs": [],
      "source": [
        "stop_early = tf.keras.callbacks.EarlyStopping(monitor='val_accuracy', patience=3)"
      ]
    },
    {
      "cell_type": "code",
      "execution_count": 9,
      "metadata": {
        "colab": {
          "base_uri": "https://localhost:8080/"
        },
        "id": "h-qPmUxcD5jM",
        "outputId": "02b3d593-128a-43e2-a8ae-f7db99065104"
      },
      "outputs": [
        {
          "output_type": "stream",
          "name": "stdout",
          "text": [
            "Trial 30 Complete [00h 01m 04s]\n",
            "val_accuracy: 0.3243333399295807\n",
            "\n",
            "Best val_accuracy So Far: 0.8943333625793457\n",
            "Total elapsed time: 00h 44m 34s\n"
          ]
        }
      ],
      "source": [
        "tuner.search(X_train, y_train, epochs=10, validation_split=0.2, callbacks=[stop_early])"
      ]
    },
    {
      "cell_type": "code",
      "execution_count": 10,
      "metadata": {
        "id": "zdHaJGTDQAVr"
      },
      "outputs": [],
      "source": [
        "best_hps = tuner.get_best_hyperparameters(num_trials=1)[0]"
      ]
    },
    {
      "cell_type": "code",
      "execution_count": 11,
      "metadata": {
        "colab": {
          "base_uri": "https://localhost:8080/"
        },
        "id": "9GWkZF7BQlzq",
        "outputId": "9986dc88-b406-4a4c-a0f5-ee92cf873dde"
      },
      "outputs": [
        {
          "output_type": "stream",
          "name": "stdout",
          "text": [
            "Epoch 1/30\n",
            "1500/1500 [==============================] - 14s 9ms/step - loss: 0.4825 - accuracy: 0.8246 - val_loss: 0.4281 - val_accuracy: 0.8471\n",
            "Epoch 2/30\n",
            "1500/1500 [==============================] - 13s 9ms/step - loss: 0.3617 - accuracy: 0.8673 - val_loss: 0.3426 - val_accuracy: 0.8760\n",
            "Epoch 3/30\n",
            "1500/1500 [==============================] - 13s 9ms/step - loss: 0.3260 - accuracy: 0.8783 - val_loss: 0.3639 - val_accuracy: 0.8700\n",
            "Epoch 4/30\n",
            "1500/1500 [==============================] - 13s 9ms/step - loss: 0.3011 - accuracy: 0.8870 - val_loss: 0.3275 - val_accuracy: 0.8809\n",
            "Epoch 5/30\n",
            "1500/1500 [==============================] - 13s 9ms/step - loss: 0.2833 - accuracy: 0.8929 - val_loss: 0.3333 - val_accuracy: 0.8817\n",
            "Epoch 6/30\n",
            "1500/1500 [==============================] - 13s 9ms/step - loss: 0.2665 - accuracy: 0.8993 - val_loss: 0.3243 - val_accuracy: 0.8878\n",
            "Epoch 7/30\n",
            "1500/1500 [==============================] - 14s 10ms/step - loss: 0.2513 - accuracy: 0.9055 - val_loss: 0.3399 - val_accuracy: 0.8839\n",
            "Epoch 8/30\n",
            "1500/1500 [==============================] - 16s 11ms/step - loss: 0.2440 - accuracy: 0.9072 - val_loss: 0.3271 - val_accuracy: 0.8851\n",
            "Epoch 9/30\n",
            "1500/1500 [==============================] - 18s 12ms/step - loss: 0.2304 - accuracy: 0.9117 - val_loss: 0.3502 - val_accuracy: 0.8807\n",
            "Epoch 10/30\n",
            "1500/1500 [==============================] - 16s 11ms/step - loss: 0.2214 - accuracy: 0.9155 - val_loss: 0.3225 - val_accuracy: 0.8878\n",
            "Epoch 11/30\n",
            "1500/1500 [==============================] - 16s 11ms/step - loss: 0.2114 - accuracy: 0.9189 - val_loss: 0.3385 - val_accuracy: 0.8869\n"
          ]
        }
      ],
      "source": [
        "model = tuner.hypermodel.build(best_hps)\n",
        "history = model.fit(X_train, y_train, epochs=30, validation_split=0.2, callbacks=[stop_early])"
      ]
    },
    {
      "cell_type": "code",
      "execution_count": 12,
      "metadata": {
        "colab": {
          "base_uri": "https://localhost:8080/"
        },
        "id": "iJtxBlx1Pvzc",
        "outputId": "81e913ee-e9a9-46fa-c9bd-896ceb8357e7"
      },
      "outputs": [
        {
          "output_type": "stream",
          "name": "stdout",
          "text": [
            "313/313 [==============================] - 1s 4ms/step - loss: 0.3688 - accuracy: 0.8796\n",
            "Test Loss: 0.3688, Test Accuracy: 0.8796\n"
          ]
        }
      ],
      "source": [
        "test_loss, test_accuracy = model.evaluate(X_test, y_test)\n",
        "print(f\"Test Loss: {test_loss:.4f}, Test Accuracy: {test_accuracy:.4f}\")"
      ]
    }
  ],
  "metadata": {
    "colab": {
      "provenance": []
    },
    "kernelspec": {
      "display_name": "Python 3",
      "name": "python3"
    },
    "language_info": {
      "name": "python"
    }
  },
  "nbformat": 4,
  "nbformat_minor": 0
}